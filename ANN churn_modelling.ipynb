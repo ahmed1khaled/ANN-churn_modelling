{
 "cells": [
  {
   "cell_type": "code",
   "execution_count": 1,
   "metadata": {
    "colab": {},
    "colab_type": "code",
    "id": "tPXrnm0Dn2ek"
   },
   "outputs": [],
   "source": [
    "import pandas as pd\n",
    "import numpy as np\n",
    "import matplotlib.pyplot as plt\n",
    "%matplotlib inline\n",
    "import seaborn as sns\n",
    "import tensorflow as tf\n",
    "from tensorflow import keras\n",
    "from tensorflow.keras.models import Sequential\n",
    "from tensorflow.keras.layers import Dense,Flatten,Dropout\n",
    "from tensorflow.keras.optimizers import Adam\n",
    "from tensorflow.keras.models import load_model\n",
    "#from keras.utils import to_categorical\n",
    "#importing models\n",
    "from sklearn.model_selection import train_test_split\n",
    "from sklearn.preprocessing import LabelEncoder, MinMaxScaler\n",
    "import time\n",
    "import warnings\n",
    "from sklearn.metrics import accuracy_score, f1_score, precision_score, recall_score, classification_report, confusion_matrix"
   ]
  },
  {
   "cell_type": "code",
   "execution_count": 14,
   "metadata": {},
   "outputs": [],
   "source": [
    "from sklearn.preprocessing import StandardScaler"
   ]
  },
  {
   "cell_type": "code",
   "execution_count": 86,
   "metadata": {
    "colab": {},
    "colab_type": "code",
    "id": "W6My8YVOpFYl"
   },
   "outputs": [],
   "source": [
    "df = pd.read_csv('Churn_Modelling.csv')"
   ]
  },
  {
   "cell_type": "code",
   "execution_count": 87,
   "metadata": {
    "colab": {},
    "colab_type": "code",
    "id": "J6epjyw1pFgc"
   },
   "outputs": [
    {
     "data": {
      "text/html": [
       "<div>\n",
       "<style scoped>\n",
       "    .dataframe tbody tr th:only-of-type {\n",
       "        vertical-align: middle;\n",
       "    }\n",
       "\n",
       "    .dataframe tbody tr th {\n",
       "        vertical-align: top;\n",
       "    }\n",
       "\n",
       "    .dataframe thead th {\n",
       "        text-align: right;\n",
       "    }\n",
       "</style>\n",
       "<table border=\"1\" class=\"dataframe\">\n",
       "  <thead>\n",
       "    <tr style=\"text-align: right;\">\n",
       "      <th></th>\n",
       "      <th>RowNumber</th>\n",
       "      <th>CustomerId</th>\n",
       "      <th>Surname</th>\n",
       "      <th>CreditScore</th>\n",
       "      <th>Geography</th>\n",
       "      <th>Gender</th>\n",
       "      <th>Age</th>\n",
       "      <th>Tenure</th>\n",
       "      <th>Balance</th>\n",
       "      <th>NumOfProducts</th>\n",
       "      <th>HasCrCard</th>\n",
       "      <th>IsActiveMember</th>\n",
       "      <th>EstimatedSalary</th>\n",
       "      <th>Exited</th>\n",
       "    </tr>\n",
       "  </thead>\n",
       "  <tbody>\n",
       "    <tr>\n",
       "      <th>0</th>\n",
       "      <td>1</td>\n",
       "      <td>15634602</td>\n",
       "      <td>Hargrave</td>\n",
       "      <td>619</td>\n",
       "      <td>France</td>\n",
       "      <td>Female</td>\n",
       "      <td>42</td>\n",
       "      <td>2</td>\n",
       "      <td>0.00</td>\n",
       "      <td>1</td>\n",
       "      <td>1</td>\n",
       "      <td>1</td>\n",
       "      <td>101348.88</td>\n",
       "      <td>1</td>\n",
       "    </tr>\n",
       "    <tr>\n",
       "      <th>1</th>\n",
       "      <td>2</td>\n",
       "      <td>15647311</td>\n",
       "      <td>Hill</td>\n",
       "      <td>608</td>\n",
       "      <td>Spain</td>\n",
       "      <td>Female</td>\n",
       "      <td>41</td>\n",
       "      <td>1</td>\n",
       "      <td>83807.86</td>\n",
       "      <td>1</td>\n",
       "      <td>0</td>\n",
       "      <td>1</td>\n",
       "      <td>112542.58</td>\n",
       "      <td>0</td>\n",
       "    </tr>\n",
       "    <tr>\n",
       "      <th>2</th>\n",
       "      <td>3</td>\n",
       "      <td>15619304</td>\n",
       "      <td>Onio</td>\n",
       "      <td>502</td>\n",
       "      <td>France</td>\n",
       "      <td>Female</td>\n",
       "      <td>42</td>\n",
       "      <td>8</td>\n",
       "      <td>159660.80</td>\n",
       "      <td>3</td>\n",
       "      <td>1</td>\n",
       "      <td>0</td>\n",
       "      <td>113931.57</td>\n",
       "      <td>1</td>\n",
       "    </tr>\n",
       "    <tr>\n",
       "      <th>3</th>\n",
       "      <td>4</td>\n",
       "      <td>15701354</td>\n",
       "      <td>Boni</td>\n",
       "      <td>699</td>\n",
       "      <td>France</td>\n",
       "      <td>Female</td>\n",
       "      <td>39</td>\n",
       "      <td>1</td>\n",
       "      <td>0.00</td>\n",
       "      <td>2</td>\n",
       "      <td>0</td>\n",
       "      <td>0</td>\n",
       "      <td>93826.63</td>\n",
       "      <td>0</td>\n",
       "    </tr>\n",
       "    <tr>\n",
       "      <th>4</th>\n",
       "      <td>5</td>\n",
       "      <td>15737888</td>\n",
       "      <td>Mitchell</td>\n",
       "      <td>850</td>\n",
       "      <td>Spain</td>\n",
       "      <td>Female</td>\n",
       "      <td>43</td>\n",
       "      <td>2</td>\n",
       "      <td>125510.82</td>\n",
       "      <td>1</td>\n",
       "      <td>1</td>\n",
       "      <td>1</td>\n",
       "      <td>79084.10</td>\n",
       "      <td>0</td>\n",
       "    </tr>\n",
       "    <tr>\n",
       "      <th>...</th>\n",
       "      <td>...</td>\n",
       "      <td>...</td>\n",
       "      <td>...</td>\n",
       "      <td>...</td>\n",
       "      <td>...</td>\n",
       "      <td>...</td>\n",
       "      <td>...</td>\n",
       "      <td>...</td>\n",
       "      <td>...</td>\n",
       "      <td>...</td>\n",
       "      <td>...</td>\n",
       "      <td>...</td>\n",
       "      <td>...</td>\n",
       "      <td>...</td>\n",
       "    </tr>\n",
       "    <tr>\n",
       "      <th>9995</th>\n",
       "      <td>9996</td>\n",
       "      <td>15606229</td>\n",
       "      <td>Obijiaku</td>\n",
       "      <td>771</td>\n",
       "      <td>France</td>\n",
       "      <td>Male</td>\n",
       "      <td>39</td>\n",
       "      <td>5</td>\n",
       "      <td>0.00</td>\n",
       "      <td>2</td>\n",
       "      <td>1</td>\n",
       "      <td>0</td>\n",
       "      <td>96270.64</td>\n",
       "      <td>0</td>\n",
       "    </tr>\n",
       "    <tr>\n",
       "      <th>9996</th>\n",
       "      <td>9997</td>\n",
       "      <td>15569892</td>\n",
       "      <td>Johnstone</td>\n",
       "      <td>516</td>\n",
       "      <td>France</td>\n",
       "      <td>Male</td>\n",
       "      <td>35</td>\n",
       "      <td>10</td>\n",
       "      <td>57369.61</td>\n",
       "      <td>1</td>\n",
       "      <td>1</td>\n",
       "      <td>1</td>\n",
       "      <td>101699.77</td>\n",
       "      <td>0</td>\n",
       "    </tr>\n",
       "    <tr>\n",
       "      <th>9997</th>\n",
       "      <td>9998</td>\n",
       "      <td>15584532</td>\n",
       "      <td>Liu</td>\n",
       "      <td>709</td>\n",
       "      <td>France</td>\n",
       "      <td>Female</td>\n",
       "      <td>36</td>\n",
       "      <td>7</td>\n",
       "      <td>0.00</td>\n",
       "      <td>1</td>\n",
       "      <td>0</td>\n",
       "      <td>1</td>\n",
       "      <td>42085.58</td>\n",
       "      <td>1</td>\n",
       "    </tr>\n",
       "    <tr>\n",
       "      <th>9998</th>\n",
       "      <td>9999</td>\n",
       "      <td>15682355</td>\n",
       "      <td>Sabbatini</td>\n",
       "      <td>772</td>\n",
       "      <td>Germany</td>\n",
       "      <td>Male</td>\n",
       "      <td>42</td>\n",
       "      <td>3</td>\n",
       "      <td>75075.31</td>\n",
       "      <td>2</td>\n",
       "      <td>1</td>\n",
       "      <td>0</td>\n",
       "      <td>92888.52</td>\n",
       "      <td>1</td>\n",
       "    </tr>\n",
       "    <tr>\n",
       "      <th>9999</th>\n",
       "      <td>10000</td>\n",
       "      <td>15628319</td>\n",
       "      <td>Walker</td>\n",
       "      <td>792</td>\n",
       "      <td>France</td>\n",
       "      <td>Female</td>\n",
       "      <td>28</td>\n",
       "      <td>4</td>\n",
       "      <td>130142.79</td>\n",
       "      <td>1</td>\n",
       "      <td>1</td>\n",
       "      <td>0</td>\n",
       "      <td>38190.78</td>\n",
       "      <td>0</td>\n",
       "    </tr>\n",
       "  </tbody>\n",
       "</table>\n",
       "<p>10000 rows × 14 columns</p>\n",
       "</div>"
      ],
      "text/plain": [
       "      RowNumber  CustomerId    Surname  CreditScore Geography  Gender  Age  \\\n",
       "0             1    15634602   Hargrave          619    France  Female   42   \n",
       "1             2    15647311       Hill          608     Spain  Female   41   \n",
       "2             3    15619304       Onio          502    France  Female   42   \n",
       "3             4    15701354       Boni          699    France  Female   39   \n",
       "4             5    15737888   Mitchell          850     Spain  Female   43   \n",
       "...         ...         ...        ...          ...       ...     ...  ...   \n",
       "9995       9996    15606229   Obijiaku          771    France    Male   39   \n",
       "9996       9997    15569892  Johnstone          516    France    Male   35   \n",
       "9997       9998    15584532        Liu          709    France  Female   36   \n",
       "9998       9999    15682355  Sabbatini          772   Germany    Male   42   \n",
       "9999      10000    15628319     Walker          792    France  Female   28   \n",
       "\n",
       "      Tenure    Balance  NumOfProducts  HasCrCard  IsActiveMember  \\\n",
       "0          2       0.00              1          1               1   \n",
       "1          1   83807.86              1          0               1   \n",
       "2          8  159660.80              3          1               0   \n",
       "3          1       0.00              2          0               0   \n",
       "4          2  125510.82              1          1               1   \n",
       "...      ...        ...            ...        ...             ...   \n",
       "9995       5       0.00              2          1               0   \n",
       "9996      10   57369.61              1          1               1   \n",
       "9997       7       0.00              1          0               1   \n",
       "9998       3   75075.31              2          1               0   \n",
       "9999       4  130142.79              1          1               0   \n",
       "\n",
       "      EstimatedSalary  Exited  \n",
       "0           101348.88       1  \n",
       "1           112542.58       0  \n",
       "2           113931.57       1  \n",
       "3            93826.63       0  \n",
       "4            79084.10       0  \n",
       "...               ...     ...  \n",
       "9995         96270.64       0  \n",
       "9996        101699.77       0  \n",
       "9997         42085.58       1  \n",
       "9998         92888.52       1  \n",
       "9999         38190.78       0  \n",
       "\n",
       "[10000 rows x 14 columns]"
      ]
     },
     "execution_count": 87,
     "metadata": {},
     "output_type": "execute_result"
    }
   ],
   "source": [
    "df"
   ]
  },
  {
   "cell_type": "code",
   "execution_count": 88,
   "metadata": {
    "colab": {},
    "colab_type": "code",
    "id": "spYXA5FApFpd"
   },
   "outputs": [
    {
     "data": {
      "text/plain": [
       "RowNumber          0\n",
       "CustomerId         0\n",
       "Surname            0\n",
       "CreditScore        0\n",
       "Geography          0\n",
       "Gender             0\n",
       "Age                0\n",
       "Tenure             0\n",
       "Balance            0\n",
       "NumOfProducts      0\n",
       "HasCrCard          0\n",
       "IsActiveMember     0\n",
       "EstimatedSalary    0\n",
       "Exited             0\n",
       "dtype: int64"
      ]
     },
     "execution_count": 88,
     "metadata": {},
     "output_type": "execute_result"
    }
   ],
   "source": [
    "df.isnull().sum()"
   ]
  },
  {
   "cell_type": "code",
   "execution_count": 89,
   "metadata": {
    "colab": {},
    "colab_type": "code",
    "id": "0guxKKH0pFnv"
   },
   "outputs": [
    {
     "name": "stdout",
     "output_type": "stream",
     "text": [
      "<class 'pandas.core.frame.DataFrame'>\n",
      "RangeIndex: 10000 entries, 0 to 9999\n",
      "Data columns (total 14 columns):\n",
      " #   Column           Non-Null Count  Dtype  \n",
      "---  ------           --------------  -----  \n",
      " 0   RowNumber        10000 non-null  int64  \n",
      " 1   CustomerId       10000 non-null  int64  \n",
      " 2   Surname          10000 non-null  object \n",
      " 3   CreditScore      10000 non-null  int64  \n",
      " 4   Geography        10000 non-null  object \n",
      " 5   Gender           10000 non-null  object \n",
      " 6   Age              10000 non-null  int64  \n",
      " 7   Tenure           10000 non-null  int64  \n",
      " 8   Balance          10000 non-null  float64\n",
      " 9   NumOfProducts    10000 non-null  int64  \n",
      " 10  HasCrCard        10000 non-null  int64  \n",
      " 11  IsActiveMember   10000 non-null  int64  \n",
      " 12  EstimatedSalary  10000 non-null  float64\n",
      " 13  Exited           10000 non-null  int64  \n",
      "dtypes: float64(2), int64(9), object(3)\n",
      "memory usage: 1.1+ MB\n"
     ]
    }
   ],
   "source": [
    "df.info()"
   ]
  },
  {
   "cell_type": "code",
   "execution_count": 90,
   "metadata": {},
   "outputs": [
    {
     "data": {
      "text/plain": [
       "Index(['RowNumber', 'CustomerId', 'Surname', 'CreditScore', 'Geography',\n",
       "       'Gender', 'Age', 'Tenure', 'Balance', 'NumOfProducts', 'HasCrCard',\n",
       "       'IsActiveMember', 'EstimatedSalary', 'Exited'],\n",
       "      dtype='object')"
      ]
     },
     "execution_count": 90,
     "metadata": {},
     "output_type": "execute_result"
    }
   ],
   "source": [
    "df.columns"
   ]
  },
  {
   "cell_type": "code",
   "execution_count": 91,
   "metadata": {},
   "outputs": [],
   "source": [
    "list_drob=['RowNumber','CustomerId','Surname']"
   ]
  },
  {
   "cell_type": "code",
   "execution_count": 92,
   "metadata": {},
   "outputs": [],
   "source": [
    "df.drop(list_drob,axis=1,inplace=True)"
   ]
  },
  {
   "cell_type": "code",
   "execution_count": 93,
   "metadata": {},
   "outputs": [
    {
     "data": {
      "text/html": [
       "<div>\n",
       "<style scoped>\n",
       "    .dataframe tbody tr th:only-of-type {\n",
       "        vertical-align: middle;\n",
       "    }\n",
       "\n",
       "    .dataframe tbody tr th {\n",
       "        vertical-align: top;\n",
       "    }\n",
       "\n",
       "    .dataframe thead th {\n",
       "        text-align: right;\n",
       "    }\n",
       "</style>\n",
       "<table border=\"1\" class=\"dataframe\">\n",
       "  <thead>\n",
       "    <tr style=\"text-align: right;\">\n",
       "      <th></th>\n",
       "      <th>CreditScore</th>\n",
       "      <th>Geography</th>\n",
       "      <th>Gender</th>\n",
       "      <th>Age</th>\n",
       "      <th>Tenure</th>\n",
       "      <th>Balance</th>\n",
       "      <th>NumOfProducts</th>\n",
       "      <th>HasCrCard</th>\n",
       "      <th>IsActiveMember</th>\n",
       "      <th>EstimatedSalary</th>\n",
       "      <th>Exited</th>\n",
       "    </tr>\n",
       "  </thead>\n",
       "  <tbody>\n",
       "    <tr>\n",
       "      <th>0</th>\n",
       "      <td>619</td>\n",
       "      <td>France</td>\n",
       "      <td>Female</td>\n",
       "      <td>42</td>\n",
       "      <td>2</td>\n",
       "      <td>0.00</td>\n",
       "      <td>1</td>\n",
       "      <td>1</td>\n",
       "      <td>1</td>\n",
       "      <td>101348.88</td>\n",
       "      <td>1</td>\n",
       "    </tr>\n",
       "    <tr>\n",
       "      <th>1</th>\n",
       "      <td>608</td>\n",
       "      <td>Spain</td>\n",
       "      <td>Female</td>\n",
       "      <td>41</td>\n",
       "      <td>1</td>\n",
       "      <td>83807.86</td>\n",
       "      <td>1</td>\n",
       "      <td>0</td>\n",
       "      <td>1</td>\n",
       "      <td>112542.58</td>\n",
       "      <td>0</td>\n",
       "    </tr>\n",
       "    <tr>\n",
       "      <th>2</th>\n",
       "      <td>502</td>\n",
       "      <td>France</td>\n",
       "      <td>Female</td>\n",
       "      <td>42</td>\n",
       "      <td>8</td>\n",
       "      <td>159660.80</td>\n",
       "      <td>3</td>\n",
       "      <td>1</td>\n",
       "      <td>0</td>\n",
       "      <td>113931.57</td>\n",
       "      <td>1</td>\n",
       "    </tr>\n",
       "    <tr>\n",
       "      <th>3</th>\n",
       "      <td>699</td>\n",
       "      <td>France</td>\n",
       "      <td>Female</td>\n",
       "      <td>39</td>\n",
       "      <td>1</td>\n",
       "      <td>0.00</td>\n",
       "      <td>2</td>\n",
       "      <td>0</td>\n",
       "      <td>0</td>\n",
       "      <td>93826.63</td>\n",
       "      <td>0</td>\n",
       "    </tr>\n",
       "    <tr>\n",
       "      <th>4</th>\n",
       "      <td>850</td>\n",
       "      <td>Spain</td>\n",
       "      <td>Female</td>\n",
       "      <td>43</td>\n",
       "      <td>2</td>\n",
       "      <td>125510.82</td>\n",
       "      <td>1</td>\n",
       "      <td>1</td>\n",
       "      <td>1</td>\n",
       "      <td>79084.10</td>\n",
       "      <td>0</td>\n",
       "    </tr>\n",
       "  </tbody>\n",
       "</table>\n",
       "</div>"
      ],
      "text/plain": [
       "   CreditScore Geography  Gender  Age  Tenure    Balance  NumOfProducts  \\\n",
       "0          619    France  Female   42       2       0.00              1   \n",
       "1          608     Spain  Female   41       1   83807.86              1   \n",
       "2          502    France  Female   42       8  159660.80              3   \n",
       "3          699    France  Female   39       1       0.00              2   \n",
       "4          850     Spain  Female   43       2  125510.82              1   \n",
       "\n",
       "   HasCrCard  IsActiveMember  EstimatedSalary  Exited  \n",
       "0          1               1        101348.88       1  \n",
       "1          0               1        112542.58       0  \n",
       "2          1               0        113931.57       1  \n",
       "3          0               0         93826.63       0  \n",
       "4          1               1         79084.10       0  "
      ]
     },
     "execution_count": 93,
     "metadata": {},
     "output_type": "execute_result"
    }
   ],
   "source": [
    "df.head()"
   ]
  },
  {
   "cell_type": "code",
   "execution_count": 94,
   "metadata": {},
   "outputs": [],
   "source": [
    "df=pd.get_dummies(df,columns=['Geography','Gender'])"
   ]
  },
  {
   "cell_type": "code",
   "execution_count": 95,
   "metadata": {},
   "outputs": [
    {
     "data": {
      "text/html": [
       "<div>\n",
       "<style scoped>\n",
       "    .dataframe tbody tr th:only-of-type {\n",
       "        vertical-align: middle;\n",
       "    }\n",
       "\n",
       "    .dataframe tbody tr th {\n",
       "        vertical-align: top;\n",
       "    }\n",
       "\n",
       "    .dataframe thead th {\n",
       "        text-align: right;\n",
       "    }\n",
       "</style>\n",
       "<table border=\"1\" class=\"dataframe\">\n",
       "  <thead>\n",
       "    <tr style=\"text-align: right;\">\n",
       "      <th></th>\n",
       "      <th>CreditScore</th>\n",
       "      <th>Age</th>\n",
       "      <th>Tenure</th>\n",
       "      <th>Balance</th>\n",
       "      <th>NumOfProducts</th>\n",
       "      <th>HasCrCard</th>\n",
       "      <th>IsActiveMember</th>\n",
       "      <th>EstimatedSalary</th>\n",
       "      <th>Exited</th>\n",
       "      <th>Geography_France</th>\n",
       "      <th>Geography_Germany</th>\n",
       "      <th>Geography_Spain</th>\n",
       "      <th>Gender_Female</th>\n",
       "      <th>Gender_Male</th>\n",
       "    </tr>\n",
       "  </thead>\n",
       "  <tbody>\n",
       "    <tr>\n",
       "      <th>0</th>\n",
       "      <td>619</td>\n",
       "      <td>42</td>\n",
       "      <td>2</td>\n",
       "      <td>0.00</td>\n",
       "      <td>1</td>\n",
       "      <td>1</td>\n",
       "      <td>1</td>\n",
       "      <td>101348.88</td>\n",
       "      <td>1</td>\n",
       "      <td>1</td>\n",
       "      <td>0</td>\n",
       "      <td>0</td>\n",
       "      <td>1</td>\n",
       "      <td>0</td>\n",
       "    </tr>\n",
       "    <tr>\n",
       "      <th>1</th>\n",
       "      <td>608</td>\n",
       "      <td>41</td>\n",
       "      <td>1</td>\n",
       "      <td>83807.86</td>\n",
       "      <td>1</td>\n",
       "      <td>0</td>\n",
       "      <td>1</td>\n",
       "      <td>112542.58</td>\n",
       "      <td>0</td>\n",
       "      <td>0</td>\n",
       "      <td>0</td>\n",
       "      <td>1</td>\n",
       "      <td>1</td>\n",
       "      <td>0</td>\n",
       "    </tr>\n",
       "    <tr>\n",
       "      <th>2</th>\n",
       "      <td>502</td>\n",
       "      <td>42</td>\n",
       "      <td>8</td>\n",
       "      <td>159660.80</td>\n",
       "      <td>3</td>\n",
       "      <td>1</td>\n",
       "      <td>0</td>\n",
       "      <td>113931.57</td>\n",
       "      <td>1</td>\n",
       "      <td>1</td>\n",
       "      <td>0</td>\n",
       "      <td>0</td>\n",
       "      <td>1</td>\n",
       "      <td>0</td>\n",
       "    </tr>\n",
       "    <tr>\n",
       "      <th>3</th>\n",
       "      <td>699</td>\n",
       "      <td>39</td>\n",
       "      <td>1</td>\n",
       "      <td>0.00</td>\n",
       "      <td>2</td>\n",
       "      <td>0</td>\n",
       "      <td>0</td>\n",
       "      <td>93826.63</td>\n",
       "      <td>0</td>\n",
       "      <td>1</td>\n",
       "      <td>0</td>\n",
       "      <td>0</td>\n",
       "      <td>1</td>\n",
       "      <td>0</td>\n",
       "    </tr>\n",
       "    <tr>\n",
       "      <th>4</th>\n",
       "      <td>850</td>\n",
       "      <td>43</td>\n",
       "      <td>2</td>\n",
       "      <td>125510.82</td>\n",
       "      <td>1</td>\n",
       "      <td>1</td>\n",
       "      <td>1</td>\n",
       "      <td>79084.10</td>\n",
       "      <td>0</td>\n",
       "      <td>0</td>\n",
       "      <td>0</td>\n",
       "      <td>1</td>\n",
       "      <td>1</td>\n",
       "      <td>0</td>\n",
       "    </tr>\n",
       "  </tbody>\n",
       "</table>\n",
       "</div>"
      ],
      "text/plain": [
       "   CreditScore  Age  Tenure    Balance  NumOfProducts  HasCrCard  \\\n",
       "0          619   42       2       0.00              1          1   \n",
       "1          608   41       1   83807.86              1          0   \n",
       "2          502   42       8  159660.80              3          1   \n",
       "3          699   39       1       0.00              2          0   \n",
       "4          850   43       2  125510.82              1          1   \n",
       "\n",
       "   IsActiveMember  EstimatedSalary  Exited  Geography_France  \\\n",
       "0               1        101348.88       1                 1   \n",
       "1               1        112542.58       0                 0   \n",
       "2               0        113931.57       1                 1   \n",
       "3               0         93826.63       0                 1   \n",
       "4               1         79084.10       0                 0   \n",
       "\n",
       "   Geography_Germany  Geography_Spain  Gender_Female  Gender_Male  \n",
       "0                  0                0              1            0  \n",
       "1                  0                1              1            0  \n",
       "2                  0                0              1            0  \n",
       "3                  0                0              1            0  \n",
       "4                  0                1              1            0  "
      ]
     },
     "execution_count": 95,
     "metadata": {},
     "output_type": "execute_result"
    }
   ],
   "source": [
    "df.head()"
   ]
  },
  {
   "cell_type": "code",
   "execution_count": 96,
   "metadata": {},
   "outputs": [
    {
     "data": {
      "text/plain": [
       "<matplotlib.axes._subplots.AxesSubplot at 0x223b63ca9a0>"
      ]
     },
     "execution_count": 96,
     "metadata": {},
     "output_type": "execute_result"
    },
    {
     "data": {
      "image/png": "[encoded data removed]",
      "text/plain": [
       "<Figure size 432x288 with 1 Axes>"
      ]
     },
     "metadata": {
      "needs_background": "light"
     },
     "output_type": "display_data"
    }
   ],
   "source": [
    "sns.kdeplot(df['CreditScore'], shade=True)\n",
    "sns.kdeplot(df['Age'], shade=True)\n",
    "sns.kdeplot(df['Balance'], shade=True)\n",
    "sns.kdeplot(df['EstimatedSalary'], shade=True)\n",
    "sns.kdeplot(df['Tenure'], shade=True)\n"
   ]
  },
  {
   "cell_type": "code",
   "execution_count": 97,
   "metadata": {},
   "outputs": [],
   "source": [
    "stand= StandardScaler()\n",
    "for column in ['CreditScore','Age','Balance','EstimatedSalary','Tenure']:\n",
    "    df[column] = stand.fit_transform(df[column].values.reshape(-1,1))"
   ]
  },
  {
   "cell_type": "code",
   "execution_count": 98,
   "metadata": {},
   "outputs": [
    {
     "data": {
      "text/plain": [
       "<matplotlib.axes._subplots.AxesSubplot at 0x223b68986d0>"
      ]
     },
     "execution_count": 98,
     "metadata": {},
     "output_type": "execute_result"
    },
    {
     "data": {
      "image/png": "[encoded data removed]",
      "text/plain": [
       "<Figure size 432x288 with 1 Axes>"
      ]
     },
     "metadata": {
      "needs_background": "light"
     },
     "output_type": "display_data"
    }
   ],
   "source": [
    "sns.kdeplot(df['CreditScore'], shade=True)\n",
    "sns.kdeplot(df['Age'], shade=True)\n",
    "sns.kdeplot(df['Balance'], shade=True)\n",
    "sns.kdeplot(df['EstimatedSalary'], shade=True)\n",
    "sns.kdeplot(df['Tenure'], shade=True)"
   ]
  },
  {
   "cell_type": "code",
   "execution_count": 99,
   "metadata": {},
   "outputs": [
    {
     "data": {
      "text/plain": [
       "<matplotlib.axes._subplots.AxesSubplot at 0x223b692ca60>"
      ]
     },
     "execution_count": 99,
     "metadata": {},
     "output_type": "execute_result"
    },
    {
     "data": {
      "image/png": "[encoded data removed]",
      "text/plain": [
       "<Figure size 432x288 with 1 Axes>"
      ]
     },
     "metadata": {
      "needs_background": "light"
     },
     "output_type": "display_data"
    }
   ],
   "source": [
    "sns.countplot(df['Exited'])"
   ]
  },
  {
   "cell_type": "code",
   "execution_count": 100,
   "metadata": {},
   "outputs": [
    {
     "data": {
      "text/plain": [
       "0    7963\n",
       "1    2037\n",
       "Name: Exited, dtype: int64"
      ]
     },
     "execution_count": 100,
     "metadata": {},
     "output_type": "execute_result"
    }
   ],
   "source": [
    "df['Exited'].value_counts()"
   ]
  },
  {
   "cell_type": "code",
   "execution_count": 101,
   "metadata": {},
   "outputs": [],
   "source": [
    "#splitting data to input and output\n",
    "X=df.drop('Exited',axis=1) #input\n",
    "y=df['Exited']  #output(label)"
   ]
  },
  {
   "cell_type": "code",
   "execution_count": 102,
   "metadata": {},
   "outputs": [],
   "source": [
    "X_train, X_test, y_train, y_test= train_test_split(X,y,test_size=0.2,shuffle=True)"
   ]
  },
  {
   "cell_type": "code",
   "execution_count": 103,
   "metadata": {},
   "outputs": [
    {
     "name": "stdout",
     "output_type": "stream",
     "text": [
      "(10000, 13)\n",
      "(10000,)\n"
     ]
    }
   ],
   "source": [
    "print(X.shape)\n",
    "print(y.shape)"
   ]
  },
  {
   "cell_type": "code",
   "execution_count": 104,
   "metadata": {},
   "outputs": [
    {
     "name": "stdout",
     "output_type": "stream",
     "text": [
      " X_train.shape :  (8000, 13)\n",
      " y_train.shape :  (8000,)\n",
      " X_test.shape :  (2000, 13)\n",
      " y_test.shape :  (2000,)\n"
     ]
    }
   ],
   "source": [
    "print(' X_train.shape : ',X_train.shape)\n",
    "print(' y_train.shape : ',y_train.shape)\n",
    "print(' X_test.shape : ',X_test.shape)\n",
    "print(' y_test.shape : ',y_test.shape)"
   ]
  },
  {
   "cell_type": "markdown",
   "metadata": {},
   "source": [
    "# deep learning ANN"
   ]
  },
  {
   "cell_type": "code",
   "execution_count": 105,
   "metadata": {},
   "outputs": [
    {
     "name": "stdout",
     "output_type": "stream",
     "text": [
      "Model: \"sequential_5\"\n",
      "_________________________________________________________________\n",
      " Layer (type)                Output Shape              Param #   \n",
      "=================================================================\n",
      " dense_15 (Dense)            (None, 6)                 84        \n",
      "                                                                 \n",
      " dense_16 (Dense)            (None, 5)                 35        \n",
      "                                                                 \n",
      " dense_17 (Dense)            (None, 1)                 6         \n",
      "                                                                 \n",
      "=================================================================\n",
      "Total params: 125\n",
      "Trainable params: 125\n",
      "Non-trainable params: 0\n",
      "_________________________________________________________________\n"
     ]
    }
   ],
   "source": [
    "model = Sequential()\n",
    "model.add(Dense(6, input_dim=13, activation='relu'))\n",
    "\n",
    "model.add(Dense(5, activation='relu'))\n",
    "\n",
    "model.add(Dense(1, activation='sigmoid'))\n",
    "\n",
    "model.compile(loss='binary_crossentropy', optimizer='adam', metrics=['accuracy'])\n",
    "model.summary()"
   ]
  },
  {
   "cell_type": "code",
   "execution_count": 107,
   "metadata": {},
   "outputs": [
    {
     "name": "stdout",
     "output_type": "stream",
     "text": [
      "Epoch 1/100\n",
      "680/680 [==============================] - 1s 907us/step - loss: 0.3471 - accuracy: 0.8535 - val_loss: 0.3821 - val_accuracy: 0.8392\n",
      "Epoch 2/100\n",
      "680/680 [==============================] - 1s 1ms/step - loss: 0.3458 - accuracy: 0.8575 - val_loss: 0.3759 - val_accuracy: 0.8467\n",
      "Epoch 3/100\n",
      "680/680 [==============================] - 1s 940us/step - loss: 0.3433 - accuracy: 0.8565 - val_loss: 0.3784 - val_accuracy: 0.8392\n",
      "Epoch 4/100\n",
      "680/680 [==============================] - 1s 959us/step - loss: 0.3435 - accuracy: 0.8575 - val_loss: 0.3771 - val_accuracy: 0.8450\n",
      "Epoch 5/100\n",
      "680/680 [==============================] - 1s 944us/step - loss: 0.3426 - accuracy: 0.8569 - val_loss: 0.3735 - val_accuracy: 0.8450\n",
      "Epoch 6/100\n",
      "680/680 [==============================] - 1s 981us/step - loss: 0.3419 - accuracy: 0.8591 - val_loss: 0.3709 - val_accuracy: 0.8458\n",
      "Epoch 7/100\n",
      "680/680 [==============================] - 1s 957us/step - loss: 0.3415 - accuracy: 0.8559 - val_loss: 0.3707 - val_accuracy: 0.8483\n",
      "Epoch 8/100\n",
      "680/680 [==============================] - 1s 1ms/step - loss: 0.3403 - accuracy: 0.8578 - val_loss: 0.3715 - val_accuracy: 0.8500\n",
      "Epoch 9/100\n",
      "680/680 [==============================] - 1s 1ms/step - loss: 0.3394 - accuracy: 0.8576 - val_loss: 0.3677 - val_accuracy: 0.8517\n",
      "Epoch 10/100\n",
      "680/680 [==============================] - 1s 938us/step - loss: 0.3380 - accuracy: 0.8575 - val_loss: 0.3697 - val_accuracy: 0.8508\n",
      "Epoch 11/100\n",
      "680/680 [==============================] - 1s 959us/step - loss: 0.3380 - accuracy: 0.8574 - val_loss: 0.3664 - val_accuracy: 0.8483\n",
      "Epoch 12/100\n",
      "680/680 [==============================] - 1s 972us/step - loss: 0.3368 - accuracy: 0.8584 - val_loss: 0.3668 - val_accuracy: 0.8467\n",
      "Epoch 13/100\n",
      "680/680 [==============================] - 1s 1ms/step - loss: 0.3353 - accuracy: 0.8606 - val_loss: 0.3652 - val_accuracy: 0.8517\n",
      "Epoch 14/100\n",
      "680/680 [==============================] - 1s 1ms/step - loss: 0.3340 - accuracy: 0.8604 - val_loss: 0.3721 - val_accuracy: 0.8375\n",
      "Epoch 15/100\n",
      "680/680 [==============================] - 1s 999us/step - loss: 0.3331 - accuracy: 0.8621 - val_loss: 0.3668 - val_accuracy: 0.8508\n",
      "Epoch 16/100\n",
      "680/680 [==============================] - 1s 945us/step - loss: 0.3326 - accuracy: 0.8616 - val_loss: 0.3608 - val_accuracy: 0.8508\n",
      "Epoch 17/100\n",
      "680/680 [==============================] - 1s 990us/step - loss: 0.3323 - accuracy: 0.8641 - val_loss: 0.3684 - val_accuracy: 0.8492\n",
      "Epoch 18/100\n",
      "680/680 [==============================] - 1s 961us/step - loss: 0.3314 - accuracy: 0.8628 - val_loss: 0.3581 - val_accuracy: 0.8533\n",
      "Epoch 19/100\n",
      "680/680 [==============================] - 1s 942us/step - loss: 0.3312 - accuracy: 0.8637 - val_loss: 0.3614 - val_accuracy: 0.8542\n",
      "Epoch 20/100\n",
      "680/680 [==============================] - 1s 962us/step - loss: 0.3307 - accuracy: 0.8641 - val_loss: 0.3620 - val_accuracy: 0.8533\n",
      "Epoch 21/100\n",
      "680/680 [==============================] - 1s 961us/step - loss: 0.3303 - accuracy: 0.8624 - val_loss: 0.3656 - val_accuracy: 0.8533\n",
      "Epoch 22/100\n",
      "680/680 [==============================] - 1s 951us/step - loss: 0.3299 - accuracy: 0.8629 - val_loss: 0.3605 - val_accuracy: 0.8500\n",
      "Epoch 23/100\n",
      "680/680 [==============================] - 1s 1ms/step - loss: 0.3296 - accuracy: 0.8663 - val_loss: 0.3594 - val_accuracy: 0.8492\n",
      "Epoch 24/100\n",
      "680/680 [==============================] - 1s 948us/step - loss: 0.3287 - accuracy: 0.8684 - val_loss: 0.3585 - val_accuracy: 0.8550\n",
      "Epoch 25/100\n",
      "680/680 [==============================] - 1s 950us/step - loss: 0.3281 - accuracy: 0.8643 - val_loss: 0.3683 - val_accuracy: 0.8408\n",
      "Epoch 26/100\n",
      "680/680 [==============================] - 1s 979us/step - loss: 0.3283 - accuracy: 0.8659 - val_loss: 0.3613 - val_accuracy: 0.8550\n",
      "Epoch 27/100\n",
      "680/680 [==============================] - 1s 1ms/step - loss: 0.3271 - accuracy: 0.8669 - val_loss: 0.3682 - val_accuracy: 0.8508\n",
      "Epoch 28/100\n",
      "680/680 [==============================] - 1s 1ms/step - loss: 0.3278 - accuracy: 0.8681 - val_loss: 0.3631 - val_accuracy: 0.8500\n",
      "Epoch 29/100\n",
      "680/680 [==============================] - 1s 997us/step - loss: 0.3272 - accuracy: 0.8676 - val_loss: 0.3549 - val_accuracy: 0.8575\n",
      "Epoch 30/100\n",
      "680/680 [==============================] - 1s 917us/step - loss: 0.3279 - accuracy: 0.8654 - val_loss: 0.3577 - val_accuracy: 0.8542\n",
      "Epoch 31/100\n",
      "680/680 [==============================] - 1s 990us/step - loss: 0.3276 - accuracy: 0.8646 - val_loss: 0.3559 - val_accuracy: 0.8525\n",
      "Epoch 32/100\n",
      "680/680 [==============================] - 1s 963us/step - loss: 0.3278 - accuracy: 0.8638 - val_loss: 0.3569 - val_accuracy: 0.8542\n",
      "Epoch 33/100\n",
      "680/680 [==============================] - 1s 982us/step - loss: 0.3271 - accuracy: 0.8654 - val_loss: 0.3564 - val_accuracy: 0.8500\n",
      "Epoch 34/100\n",
      "680/680 [==============================] - 1s 953us/step - loss: 0.3271 - accuracy: 0.8663 - val_loss: 0.3593 - val_accuracy: 0.8533\n",
      "Epoch 35/100\n",
      "680/680 [==============================] - 1s 938us/step - loss: 0.3272 - accuracy: 0.8641 - val_loss: 0.3587 - val_accuracy: 0.8508\n",
      "Epoch 36/100\n",
      "680/680 [==============================] - 1s 914us/step - loss: 0.3265 - accuracy: 0.8682 - val_loss: 0.3602 - val_accuracy: 0.8492\n",
      "Epoch 37/100\n",
      "680/680 [==============================] - 1s 940us/step - loss: 0.3258 - accuracy: 0.8666 - val_loss: 0.3583 - val_accuracy: 0.8567\n",
      "Epoch 38/100\n",
      "680/680 [==============================] - 1s 940us/step - loss: 0.3266 - accuracy: 0.8659 - val_loss: 0.3584 - val_accuracy: 0.8567\n",
      "Epoch 39/100\n",
      "680/680 [==============================] - 1s 930us/step - loss: 0.3265 - accuracy: 0.8665 - val_loss: 0.3551 - val_accuracy: 0.8492\n",
      "Epoch 40/100\n",
      "680/680 [==============================] - 1s 971us/step - loss: 0.3267 - accuracy: 0.8669 - val_loss: 0.3568 - val_accuracy: 0.8533\n",
      "Epoch 41/100\n",
      "680/680 [==============================] - 1s 931us/step - loss: 0.3262 - accuracy: 0.8646 - val_loss: 0.3537 - val_accuracy: 0.8567\n",
      "Epoch 42/100\n",
      "680/680 [==============================] - 1s 1ms/step - loss: 0.3265 - accuracy: 0.8650 - val_loss: 0.3596 - val_accuracy: 0.8550\n",
      "Epoch 43/100\n",
      "680/680 [==============================] - 1s 1ms/step - loss: 0.3248 - accuracy: 0.8674 - val_loss: 0.3555 - val_accuracy: 0.8558\n",
      "Epoch 44/100\n",
      "680/680 [==============================] - 1s 1ms/step - loss: 0.3256 - accuracy: 0.8672 - val_loss: 0.3611 - val_accuracy: 0.8517\n",
      "Epoch 45/100\n",
      "680/680 [==============================] - 1s 1ms/step - loss: 0.3261 - accuracy: 0.8672 - val_loss: 0.3568 - val_accuracy: 0.8450\n",
      "Epoch 46/100\n",
      "680/680 [==============================] - 1s 955us/step - loss: 0.3254 - accuracy: 0.8656 - val_loss: 0.3583 - val_accuracy: 0.8533\n",
      "Epoch 47/100\n",
      "680/680 [==============================] - 1s 951us/step - loss: 0.3259 - accuracy: 0.8656 - val_loss: 0.3573 - val_accuracy: 0.8550\n",
      "Epoch 48/100\n",
      "680/680 [==============================] - 1s 945us/step - loss: 0.3242 - accuracy: 0.8671 - val_loss: 0.3615 - val_accuracy: 0.8525\n",
      "Epoch 49/100\n",
      "680/680 [==============================] - 1s 941us/step - loss: 0.3257 - accuracy: 0.8653 - val_loss: 0.3569 - val_accuracy: 0.8517\n",
      "Epoch 50/100\n",
      "680/680 [==============================] - 1s 950us/step - loss: 0.3243 - accuracy: 0.8681 - val_loss: 0.3601 - val_accuracy: 0.8500\n",
      "Epoch 51/100\n",
      "680/680 [==============================] - 1s 943us/step - loss: 0.3260 - accuracy: 0.8656 - val_loss: 0.3560 - val_accuracy: 0.8525\n",
      "Epoch 52/100\n",
      "680/680 [==============================] - 1s 937us/step - loss: 0.3255 - accuracy: 0.8660 - val_loss: 0.3543 - val_accuracy: 0.8558\n",
      "Epoch 53/100\n",
      "680/680 [==============================] - 1s 931us/step - loss: 0.3247 - accuracy: 0.8665 - val_loss: 0.3581 - val_accuracy: 0.8542\n",
      "Epoch 54/100\n",
      "680/680 [==============================] - 1s 953us/step - loss: 0.3245 - accuracy: 0.8669 - val_loss: 0.3620 - val_accuracy: 0.8567\n",
      "Epoch 55/100\n",
      "680/680 [==============================] - 1s 947us/step - loss: 0.3249 - accuracy: 0.8671 - val_loss: 0.3563 - val_accuracy: 0.8525\n",
      "Epoch 56/100\n",
      "680/680 [==============================] - 1s 942us/step - loss: 0.3249 - accuracy: 0.8656 - val_loss: 0.3568 - val_accuracy: 0.8533\n",
      "Epoch 57/100\n"
     ]
    },
    {
     "name": "stdout",
     "output_type": "stream",
     "text": [
      "680/680 [==============================] - 1s 908us/step - loss: 0.3248 - accuracy: 0.8675 - val_loss: 0.3555 - val_accuracy: 0.8492\n",
      "Epoch 58/100\n",
      "680/680 [==============================] - 1s 906us/step - loss: 0.3246 - accuracy: 0.8663 - val_loss: 0.3540 - val_accuracy: 0.8542\n",
      "Epoch 59/100\n",
      "680/680 [==============================] - 1s 921us/step - loss: 0.3246 - accuracy: 0.8674 - val_loss: 0.3570 - val_accuracy: 0.8517\n",
      "Epoch 60/100\n",
      "680/680 [==============================] - 1s 903us/step - loss: 0.3247 - accuracy: 0.8672 - val_loss: 0.3546 - val_accuracy: 0.8583\n",
      "Epoch 61/100\n",
      "680/680 [==============================] - 1s 911us/step - loss: 0.3250 - accuracy: 0.8651 - val_loss: 0.3615 - val_accuracy: 0.8533\n",
      "Epoch 62/100\n",
      "680/680 [==============================] - 1s 932us/step - loss: 0.3247 - accuracy: 0.8663 - val_loss: 0.3619 - val_accuracy: 0.8467\n",
      "Epoch 63/100\n",
      "680/680 [==============================] - 1s 907us/step - loss: 0.3235 - accuracy: 0.8672 - val_loss: 0.3620 - val_accuracy: 0.8467\n",
      "Epoch 64/100\n",
      "680/680 [==============================] - 1s 904us/step - loss: 0.3254 - accuracy: 0.8665 - val_loss: 0.3574 - val_accuracy: 0.8542\n",
      "Epoch 65/100\n",
      "680/680 [==============================] - 1s 932us/step - loss: 0.3246 - accuracy: 0.8663 - val_loss: 0.3563 - val_accuracy: 0.8483\n",
      "Epoch 66/100\n",
      "680/680 [==============================] - 1s 914us/step - loss: 0.3240 - accuracy: 0.8676 - val_loss: 0.3597 - val_accuracy: 0.8458\n",
      "Epoch 67/100\n",
      "680/680 [==============================] - 1s 907us/step - loss: 0.3240 - accuracy: 0.8675 - val_loss: 0.3679 - val_accuracy: 0.8542\n",
      "Epoch 68/100\n",
      "680/680 [==============================] - 1s 909us/step - loss: 0.3244 - accuracy: 0.8653 - val_loss: 0.3620 - val_accuracy: 0.8542\n",
      "Epoch 69/100\n",
      "680/680 [==============================] - 1s 909us/step - loss: 0.3245 - accuracy: 0.8671 - val_loss: 0.3574 - val_accuracy: 0.8483\n",
      "Epoch 70/100\n",
      "680/680 [==============================] - 1s 913us/step - loss: 0.3239 - accuracy: 0.8676 - val_loss: 0.3602 - val_accuracy: 0.8492\n",
      "Epoch 71/100\n",
      "680/680 [==============================] - 1s 939us/step - loss: 0.3237 - accuracy: 0.8657 - val_loss: 0.3558 - val_accuracy: 0.8558\n",
      "Epoch 72/100\n",
      "680/680 [==============================] - 1s 933us/step - loss: 0.3236 - accuracy: 0.8660 - val_loss: 0.3628 - val_accuracy: 0.8542\n",
      "Epoch 73/100\n",
      "680/680 [==============================] - 1s 908us/step - loss: 0.3247 - accuracy: 0.8684 - val_loss: 0.3597 - val_accuracy: 0.8525\n",
      "Epoch 74/100\n",
      "680/680 [==============================] - 1s 939us/step - loss: 0.3243 - accuracy: 0.8682 - val_loss: 0.3602 - val_accuracy: 0.8542\n",
      "Epoch 75/100\n",
      "680/680 [==============================] - 1s 931us/step - loss: 0.3217 - accuracy: 0.8691 - val_loss: 0.3598 - val_accuracy: 0.8525\n",
      "Epoch 76/100\n",
      "680/680 [==============================] - 1s 910us/step - loss: 0.3242 - accuracy: 0.8676 - val_loss: 0.3580 - val_accuracy: 0.8500\n",
      "Epoch 77/100\n",
      "680/680 [==============================] - 1s 910us/step - loss: 0.3227 - accuracy: 0.8672 - val_loss: 0.3570 - val_accuracy: 0.8508\n",
      "Epoch 78/100\n",
      "680/680 [==============================] - 1s 935us/step - loss: 0.3249 - accuracy: 0.8691 - val_loss: 0.3601 - val_accuracy: 0.8550\n",
      "Epoch 79/100\n",
      "680/680 [==============================] - 1s 902us/step - loss: 0.3243 - accuracy: 0.8657 - val_loss: 0.3581 - val_accuracy: 0.8508\n",
      "Epoch 80/100\n",
      "680/680 [==============================] - 1s 958us/step - loss: 0.3232 - accuracy: 0.8653 - val_loss: 0.3622 - val_accuracy: 0.8567\n",
      "Epoch 81/100\n",
      "680/680 [==============================] - 1s 970us/step - loss: 0.3237 - accuracy: 0.8669 - val_loss: 0.3588 - val_accuracy: 0.8558\n",
      "Epoch 82/100\n",
      "680/680 [==============================] - 1s 979us/step - loss: 0.3232 - accuracy: 0.8671 - val_loss: 0.3592 - val_accuracy: 0.8550\n",
      "Epoch 83/100\n",
      "680/680 [==============================] - 1s 923us/step - loss: 0.3231 - accuracy: 0.8687 - val_loss: 0.3647 - val_accuracy: 0.8508\n",
      "Epoch 84/100\n",
      "680/680 [==============================] - 1s 930us/step - loss: 0.3228 - accuracy: 0.8666 - val_loss: 0.3639 - val_accuracy: 0.8550\n",
      "Epoch 85/100\n",
      "680/680 [==============================] - 1s 931us/step - loss: 0.3225 - accuracy: 0.8679 - val_loss: 0.3668 - val_accuracy: 0.8525\n",
      "Epoch 86/100\n",
      "680/680 [==============================] - 1s 961us/step - loss: 0.3243 - accuracy: 0.8690 - val_loss: 0.3601 - val_accuracy: 0.8508\n",
      "Epoch 87/100\n",
      "680/680 [==============================] - 1s 949us/step - loss: 0.3229 - accuracy: 0.8674 - val_loss: 0.3607 - val_accuracy: 0.8508\n",
      "Epoch 88/100\n",
      "680/680 [==============================] - 1s 942us/step - loss: 0.3234 - accuracy: 0.8668 - val_loss: 0.3585 - val_accuracy: 0.8467\n",
      "Epoch 89/100\n",
      "680/680 [==============================] - 1s 943us/step - loss: 0.3233 - accuracy: 0.8687 - val_loss: 0.3619 - val_accuracy: 0.8492\n",
      "Epoch 90/100\n",
      "680/680 [==============================] - 1s 950us/step - loss: 0.3230 - accuracy: 0.8685 - val_loss: 0.3572 - val_accuracy: 0.8533\n",
      "Epoch 91/100\n",
      "680/680 [==============================] - 1s 964us/step - loss: 0.3227 - accuracy: 0.8691 - val_loss: 0.3577 - val_accuracy: 0.8500\n",
      "Epoch 92/100\n",
      "680/680 [==============================] - 1s 954us/step - loss: 0.3231 - accuracy: 0.8646 - val_loss: 0.3578 - val_accuracy: 0.8500\n",
      "Epoch 93/100\n",
      "680/680 [==============================] - 1s 947us/step - loss: 0.3224 - accuracy: 0.8666 - val_loss: 0.3673 - val_accuracy: 0.8542\n",
      "Epoch 94/100\n",
      "680/680 [==============================] - 1s 958us/step - loss: 0.3223 - accuracy: 0.8668 - val_loss: 0.3696 - val_accuracy: 0.8550\n",
      "Epoch 95/100\n",
      "680/680 [==============================] - 1s 919us/step - loss: 0.3234 - accuracy: 0.8676 - val_loss: 0.3617 - val_accuracy: 0.8483\n",
      "Epoch 96/100\n",
      "680/680 [==============================] - 1s 937us/step - loss: 0.3232 - accuracy: 0.8690 - val_loss: 0.3589 - val_accuracy: 0.8525\n",
      "Epoch 97/100\n",
      "680/680 [==============================] - 1s 955us/step - loss: 0.3225 - accuracy: 0.8694 - val_loss: 0.3583 - val_accuracy: 0.8517\n",
      "Epoch 98/100\n",
      "680/680 [==============================] - 1s 952us/step - loss: 0.3231 - accuracy: 0.8666 - val_loss: 0.3626 - val_accuracy: 0.8475\n",
      "Epoch 99/100\n",
      "680/680 [==============================] - 1s 928us/step - loss: 0.3233 - accuracy: 0.8668 - val_loss: 0.3569 - val_accuracy: 0.8550\n",
      "Epoch 100/100\n",
      "680/680 [==============================] - 1s 954us/step - loss: 0.3225 - accuracy: 0.8684 - val_loss: 0.3602 - val_accuracy: 0.8508\n"
     ]
    }
   ],
   "source": [
    "history=model.fit(X_train, y_train, batch_size = 10, epochs = 100,validation_split=0.15)"
   ]
  },
  {
   "cell_type": "code",
   "execution_count": 108,
   "metadata": {},
   "outputs": [
    {
     "data": {
      "image/png": "[encoded data removed]",
      "text/plain": [
       "<Figure size 864x432 with 2 Axes>"
      ]
     },
     "metadata": {
      "needs_background": "light"
     },
     "output_type": "display_data"
    }
   ],
   "source": [
    "acc = history.history['accuracy']\n",
    "val_acc = history.history['val_accuracy']\n",
    "\n",
    "loss = history.history['loss']\n",
    "val_loss = history.history['val_loss']\n",
    "\n",
    "epochs_range = range(100)\n",
    "\n",
    "plt.figure(figsize=(12, 6))\n",
    "plt.subplot(1, 2, 1)\n",
    "plt.plot(epochs_range, acc, label='Training Accuracy')\n",
    "plt.plot(epochs_range, val_acc, label='Validation Accuracy')\n",
    "plt.legend(loc='lower right')\n",
    "plt.title('Training and Validation Accuracy')\n",
    "\n",
    "plt.subplot(1, 2, 2)\n",
    "plt.plot(epochs_range, loss, label='Training Loss')\n",
    "plt.plot(epochs_range, val_loss, label='Validation Loss')\n",
    "plt.legend(loc='upper right')\n",
    "plt.title('Training and Validation Loss')\n",
    "plt.show()"
   ]
  },
  {
   "cell_type": "code",
   "execution_count": 109,
   "metadata": {},
   "outputs": [],
   "source": [
    "from sklearn.metrics import confusion_matrix\n",
    "cm = confusion_matrix(y_test, y_pred)"
   ]
  },
  {
   "cell_type": "code",
   "execution_count": 110,
   "metadata": {},
   "outputs": [
    {
     "data": {
      "text/plain": [
       "array([[1391,  195],\n",
       "       [ 375,   39]], dtype=int64)"
      ]
     },
     "execution_count": 110,
     "metadata": {},
     "output_type": "execute_result"
    }
   ],
   "source": [
    "cm"
   ]
  },
  {
   "cell_type": "code",
   "execution_count": 111,
   "metadata": {},
   "outputs": [
    {
     "data": {
      "image/png": "[encoded data removed]",
      "text/plain": [
       "<Figure size 360x360 with 1 Axes>"
      ]
     },
     "metadata": {
      "needs_background": "light"
     },
     "output_type": "display_data"
    }
   ],
   "source": [
    "from mlxtend.plotting import plot_confusion_matrix\n",
    "fig, ax = plot_confusion_matrix(conf_mat=cm ,  figsize=(5, 5))\n",
    "plt.show()"
   ]
  },
  {
   "cell_type": "code",
   "execution_count": null,
   "metadata": {},
   "outputs": [],
   "source": []
  }
 ],
 "metadata": {
  "colab": {
   "collapsed_sections": [],
   "name": "ann_Colab.ipynb",
   "provenance": []
  },
  "kernelspec": {
   "display_name": "Python 3",
   "language": "python",
   "name": "python3"
  },
  "language_info": {
   "codemirror_mode": {
    "name": "ipython",
    "version": 3
   },
   "file_extension": ".py",
   "mimetype": "text/x-python",
   "name": "python",
   "nbconvert_exporter": "python",
   "pygments_lexer": "ipython3",
   "version": "3.8.3"
  }
 },
 "nbformat": 4,
 "nbformat_minor": 1
}
